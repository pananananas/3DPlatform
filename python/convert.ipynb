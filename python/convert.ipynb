{
 "cells": [
  {
   "cell_type": "code",
   "execution_count": 5,
   "metadata": {},
   "outputs": [],
   "source": [
    "from plyfile import PlyData\n",
    "import numpy as np\n",
    "import argparse\n",
    "from io import BytesIO"
   ]
  },
  {
   "cell_type": "code",
   "execution_count": 6,
   "metadata": {},
   "outputs": [],
   "source": [
    "def process_ply_to_splat(ply_file_path):\n",
    "    plydata = PlyData.read(ply_file_path)\n",
    "    vert = plydata[\"vertex\"]\n",
    "    sorted_indices = np.argsort(\n",
    "        -np.exp(vert[\"scale_0\"] + vert[\"scale_1\"] + vert[\"scale_2\"])\n",
    "        / (1 + np.exp(-vert[\"opacity\"]))\n",
    "    )\n",
    "    buffer = BytesIO()\n",
    "    for idx in sorted_indices:\n",
    "        v = plydata[\"vertex\"][idx]\n",
    "        position = np.array([v[\"x\"], v[\"y\"], v[\"z\"]], dtype=np.float32)\n",
    "        scales = np.exp(\n",
    "            np.array(\n",
    "                [v[\"scale_0\"], v[\"scale_1\"], v[\"scale_2\"]],\n",
    "                dtype=np.float32,\n",
    "            )\n",
    "        )\n",
    "        rot = np.array(\n",
    "            [v[\"rot_0\"], v[\"rot_1\"], v[\"rot_2\"], v[\"rot_3\"]],\n",
    "            dtype=np.float32,\n",
    "        )\n",
    "        SH_C0 = 0.28209479177387814\n",
    "        color = np.array(\n",
    "            [\n",
    "                0.5 + SH_C0 * v[\"f_dc_0\"],\n",
    "                0.5 + SH_C0 * v[\"f_dc_1\"],\n",
    "                0.5 + SH_C0 * v[\"f_dc_2\"],\n",
    "                1 / (1 + np.exp(-v[\"opacity\"])),\n",
    "            ]\n",
    "        )\n",
    "        buffer.write(position.tobytes())\n",
    "        buffer.write(scales.tobytes())\n",
    "        buffer.write((color * 255).clip(0, 255).astype(np.uint8).tobytes())\n",
    "        buffer.write(\n",
    "            ((rot / np.linalg.norm(rot)) * 128 + 128)\n",
    "            .clip(0, 255)\n",
    "            .astype(np.uint8)\n",
    "            .tobytes()\n",
    "        )\n",
    "\n",
    "    return buffer.getvalue()\n",
    "\n",
    "def save_splat_file(splat_data, output_path):\n",
    "    with open(output_path, \"wb\") as f:\n",
    "        f.write(splat_data)"
   ]
  },
  {
   "cell_type": "code",
   "execution_count": 15,
   "metadata": {},
   "outputs": [
    {
     "name": "stdout",
     "output_type": "stream",
     "text": [
      "Processing /Users/ewojcik/Code/web/3d_platform/python/3d_models/input_ply/gradio.ply...\n",
      "Saved /Users/ewojcik/Code/web/3d_platform/python/3d_models/output_splat/Tree.splat\n"
     ]
    }
   ],
   "source": [
    "input_files = [\"/Users/ewojcik/Code/web/3d_platform/python/3d_models/input_ply/gradio.ply\"]\n",
    "output_file = \"/Users/ewojcik/Code/web/3d_platform/python/3d_models/output_splat/Tree.splat\"\n",
    "\n",
    "for input_file in input_files:\n",
    "    print(f\"Processing {input_file}...\")\n",
    "    splat_data = process_ply_to_splat(input_file)\n",
    "    output_file = (\n",
    "        output_file if len(input_files) == 1 else input_file + \".splat\"\n",
    "    )\n",
    "    save_splat_file(splat_data, output_file)\n",
    "    print(f\"Saved {output_file}\")"
   ]
  }
 ],
 "metadata": {
  "kernelspec": {
   "display_name": "py310",
   "language": "python",
   "name": "python3"
  },
  "language_info": {
   "codemirror_mode": {
    "name": "ipython",
    "version": 3
   },
   "file_extension": ".py",
   "mimetype": "text/x-python",
   "name": "python",
   "nbconvert_exporter": "python",
   "pygments_lexer": "ipython3",
   "version": "3.10.13"
  }
 },
 "nbformat": 4,
 "nbformat_minor": 2
}
